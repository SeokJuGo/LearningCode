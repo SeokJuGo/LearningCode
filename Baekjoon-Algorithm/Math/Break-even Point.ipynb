{
 "cells": [
  {
   "cell_type": "code",
   "execution_count": 2,
   "id": "7db63df6",
   "metadata": {
    "scrolled": true
   },
   "outputs": [
    {
     "name": "stdout",
     "output_type": "stream",
     "text": [
      "1000 10 2\n",
      "-1\n",
      "0\n"
     ]
    }
   ],
   "source": [
    "A, B, C = map(int, input().split()) # \n",
    "\n",
    "count =0\n",
    "result1=0\n",
    "result2=0\n",
    "while (A+result1)>=result2 :\n",
    "    if(B>=C) :\n",
    "        print(-1)\n",
    "        break\n",
    "    result1+=B\n",
    "    result2+=C\n",
    "        \n",
    "    count+=1\n",
    "print(count)"
   ]
  }
 ],
 "metadata": {
  "kernelspec": {
   "display_name": "Python 3 (ipykernel)",
   "language": "python",
   "name": "python3"
  },
  "language_info": {
   "codemirror_mode": {
    "name": "ipython",
    "version": 3
   },
   "file_extension": ".py",
   "mimetype": "text/x-python",
   "name": "python",
   "nbconvert_exporter": "python",
   "pygments_lexer": "ipython3",
   "version": "3.9.12"
  }
 },
 "nbformat": 4,
 "nbformat_minor": 5
}
